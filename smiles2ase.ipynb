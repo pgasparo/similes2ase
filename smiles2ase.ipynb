{
 "cells": [
  {
   "cell_type": "code",
   "execution_count": null,
   "metadata": {},
   "outputs": [],
   "source": [
    "import numpy as np\n",
    "from ase import Atoms, Atom\n",
    "from ase.io import write\n",
    "from ase.data import chemical_symbols\n",
    "from sklearn import manifold, datasets\n",
    "from sklearn.decomposition import PCA\n",
    "from openbabel import pybel as pb\n",
    "from openbabel import openbabel as ob\n",
    "from ase.visualize import view\n",
    "\n",
    "from rdkit.Chem.rdmolfiles import MolFromSmiles,MolToMolFile\n",
    "from rdkit import Chem\n",
    "from rdkit.Chem import AllChem"
   ]
  },
  {
   "cell_type": "markdown",
   "metadata": {},
   "source": [
    "## Some functions to create a 3D structure from a SMILE string"
   ]
  },
  {
   "cell_type": "code",
   "execution_count": null,
   "metadata": {},
   "outputs": [],
   "source": [
    "def __ase2xyz__(atoms):\n",
    "    \"\"\"\n",
    "    Prepare a XYZ string from an ASE atoms object.\n",
    "    \"\"\"\n",
    "    # Implementation detail: If PBC should be implemented, the\n",
    "    # write to xyz needs to be changed to include cell etc.\n",
    "    atoms.pbc=False\n",
    "    if any(atoms.get_pbc()):\n",
    "        raise RuntimeError(\"Detected PBCs. Not supported (yet)!\")\n",
    "    num_atoms = len(atoms)\n",
    "    types = atoms.get_chemical_symbols()\n",
    "    all_atoms = zip(types, atoms.get_positions())\n",
    "    a_str = str(num_atoms) + \"\\n\" + \"\\n\"\n",
    "    for atom in all_atoms:\n",
    "        a_str += atom[0] + \" \" + \" \".join([str(x) for x in atom[1]]) + \"\\n\"\n",
    "    return a_str\n",
    "\n",
    "\n",
    "def convert_ase2pybel(atoms):\n",
    "    \"\"\"\n",
    "    Convert an ASE atoms object to pybel (openBabel) molecule.\n",
    "    The ordering of the Atoms is identical.\n",
    "\n",
    "    Parameters\n",
    "    ----------\n",
    "    atoms : ase.Atoms\n",
    "        The ASE atoms object\n",
    "\n",
    "    Returns\n",
    "    -------\n",
    "    pymol :\n",
    "        The pybel molecule.\n",
    "    \"\"\"\n",
    "    atoms.pbc=False\n",
    "    a_str = __ase2xyz__(atoms)\n",
    "    pymol = pb.readstring(\"xyz\", a_str)\n",
    "\n",
    "    return pymol\n",
    "\n",
    "def convert_ase2rdkit(atoms, removeHs=False):\n",
    "    \"\"\"\n",
    "    Convert an ASE atoms object to rdkit molecule.\n",
    "    The ordering of the Atoms is identical.\n",
    "\n",
    "\n",
    "    Important: Implemented only for clusters, not PBC!\n",
    "    rdkit does not keep xyz coordinates, therefore\n",
    "    a backconversion is not possible yet.\n",
    "\n",
    "    Parameters\n",
    "    ----------\n",
    "    atoms : ase.Atoms\n",
    "        The ASE atoms object\n",
    "    removeHs : Bool\n",
    "        If True, remove all H atoms from molecule.\n",
    "\n",
    "    Returns\n",
    "    -------\n",
    "    mol : rdkit.Chem.rdchem.Mol\n",
    "        The rdkit molecule object.\n",
    "    \"\"\"\n",
    "    a_str = __ase2xyz__(atoms)\n",
    "    pymol = pb.readstring(\"xyz\", a_str)\n",
    "    mol = pymol.write(\"mol\")\n",
    "    mol = Chem.MolFromMolBlock(mol, removeHs=removeHs)\n",
    "    return mol\n",
    "\n",
    "def pybel2ase(mol):  \n",
    "    asemol = Atoms()\n",
    "    species=[chemical_symbols[atm.atomicnum] for atm in mol.atoms]\n",
    "    pos=np.asarray([atm.coords for atm in mol.atoms])\n",
    "    pca = PCA(n_components=3)\n",
    "    posnew=pca.fit_transform(pos)\n",
    "    atoms = Atoms(species, positions=posnew)\n",
    "    sys_size = np.ptp(atoms.positions,axis=0)\n",
    "    atoms.pbc=True\n",
    "    atoms.cell = sys_size + 10\n",
    "    atoms.center()\n",
    "    \n",
    "    return atoms\n",
    "\n",
    "def rdkit2ase(m):\n",
    "    pos = m.GetConformer().GetPositions()\n",
    "    natoms = m.GetNumAtoms()\n",
    "    species = [m.GetAtomWithIdx(j).GetSymbol() for j in range(natoms)]                \n",
    "#Get the principal axes and realign the molecule\n",
    "    pca = PCA(n_components=3)\n",
    "    pca.fit(pos)\n",
    "    posnew=pca.transform(pos)        \n",
    "#Set the z to 0.0       \n",
    "    #posnew[:,2]=0.0\n",
    "    atoms = Atoms(species, positions=posnew)  \n",
    "    sys_size = np.ptp(atoms.positions,axis=0)\n",
    "    atoms.pbc=True\n",
    "    atoms.cell = sys_size + 10\n",
    "    atoms.center()\n",
    "        \n",
    "    return atoms\n",
    "\n",
    "\n",
    "def pybel_opt(smile,steps):\n",
    "    obconversion = ob.OBConversion()\n",
    "    obconversion.SetInFormat('smi')\n",
    "    obmol = ob.OBMol()\n",
    "    obconversion.ReadString(obmol,smile)\n",
    "    \n",
    "    pbmol = pb.Molecule(obmol)\n",
    "    pbmol.make3D(forcefield=\"uff\", steps=50)\n",
    "    \n",
    "    pbmol.localopt(forcefield=\"gaff\", steps=200)\n",
    "    pbmol.localopt(forcefield=\"mmff94\", steps=100)\n",
    "    \n",
    "    f_f = pb._forcefields[\"uff\"]\n",
    "    f_f.Setup(pbmol.OBMol)\n",
    "    f_f.ConjugateGradients(steps, 1.0e-9)\n",
    "    f_f.GetCoordinates(pbmol.OBMol)\n",
    "    #print(f_f.Energy(), f_f.GetUnit())\n",
    "    \n",
    "    return pybel2ase(pbmol)\n",
    "\n",
    "def try_rdkit(smile):\n",
    "    test = Chem.MolFromSmiles(smile)\n",
    "    test = Chem.AddHs(test)\n",
    "    \n",
    "    #test=convert_ase2rdkit(pybel_opt(smile,10))\n",
    "    \n",
    "    return AllChem.EmbedMolecule(test, maxAttempts=10, randomSeed=42)\n",
    "    \n",
    "def rdkit_opt(smile,steps):\n",
    "    m = Chem.MolFromSmiles(smile)\n",
    "    m = Chem.AddHs(m)\n",
    "    \n",
    "    AllChem.EmbedMolecule(m, maxAttempts=20, randomSeed=42)\n",
    "    AllChem.UFFOptimizeMolecule(m,maxIters=steps)\n",
    "    \n",
    "    return rdkit2ase(m)\n",
    "\n",
    "def mol_from_smiles(smile,steps=200):\n",
    "    if try_rdkit(smile)==0:\n",
    "        #print(\"Going for rdkit\")\n",
    "        return rdkit_opt(smile,steps)\n",
    "    else:\n",
    "        #print(\"Going for pybel\")\n",
    "        return pybel_opt(smile,steps)"
   ]
  },
  {
   "cell_type": "code",
   "execution_count": null,
   "metadata": {},
   "outputs": [],
   "source": [
    "# Example smiles\n",
    "\n",
    "smi=\"C1(C(C(C2=C(C1=CC=C3C4=CC=C5)C3=C6C7=C2C8=CC9=C7C%10=C%11C(C%12=C%13C%14=C%15C(C(C%16=C%17C(C%18=C%19C%20=C%21C(C(C%22=CC=CC%23=C%22C%21=C(C%19=C%17C%24=C%25)C%25=C%23)=CC=C%26%27)=C%26C%28=C%20C(C(C(C%28=C(C%27=C/%29)NC%29=C/%30)=N/%31)=CC%31=C\\C%32=CC=C(/C=C%33C=CC%30=N/%33)N%32)=C%18)=CC%34=C%16C%15=C(C%13=C%11C9=C%35)C%35=C%34)=C%24C=C%36%37)=C%36C%38=C%14C(C(C(C%38=C(C%37=C/%39)NC%39=C/%40)=N/%41)=CC%41=C\\C%42=CC=C(/C=C%43C=CC%40=N/%43)N%42)=C%12)=CC%44=C%10C6=C4C5=C%44)=C(C8=C/%45)NC%45=C/%46)=N/%47)=CC%47=C\\C%48=CC=C(/C=C%49C=CC%46=N/%49)N%48\"\n",
    "smi2=\"C12=CC=CC3=C1C(CC4=C3C5=C(C(C(C6=CC=CC7=C6C(C8)=CC=C7)=C8C=C9)=C9C=C%10)C%10=CC=C5C=C4)=CC=C2\"\n",
    "smi1=\"C=C1C(C=C(C=C2)C3=CC=C(C4=CC(C=C5)=C(C6=C5C=C(C7=CC=C(C8=CC9=C(C%10=C(C9=C)C=CC=C%10)C=C8C%11=C)C%11=C7)C=C6)C=C4C=C%12)C%12=C3)=C2C(C=C%13%14)=C1C=C%13C%15=CC=CC=C%15C%14=C\""
   ]
  },
  {
   "cell_type": "code",
   "execution_count": null,
   "metadata": {},
   "outputs": [],
   "source": [
    "from ase.visualize import view\n",
    "mol=mol_from_smiles(smi2)\n",
    "#view(mol)"
   ]
  },
  {
   "cell_type": "code",
   "execution_count": null,
   "metadata": {},
   "outputs": [],
   "source": [
    "view(mol)"
   ]
  },
  {
   "cell_type": "markdown",
   "metadata": {},
   "source": [
    "## ADD GOLD"
   ]
  },
  {
   "cell_type": "markdown",
   "metadata": {},
   "source": [
    "The following cell is just to place the molecule on top of a predefined Gold slab. Skip it if you don't need it or improve if you need a better slab"
   ]
  },
  {
   "cell_type": "code",
   "execution_count": null,
   "metadata": {},
   "outputs": [],
   "source": [
    "smimol=mol_from_smiles(smi2)\n",
    "from ase.io import read\n",
    "gold_slab=read(\"examples/Au896.xyz\")\n",
    "\n",
    "# get cm gol\n",
    "cm_gold=gold_slab.get_center_of_mass()\n",
    "# flatten the mol\n",
    "#smimol.positions[:,2]=0\n",
    "# get mol cm\n",
    "cm_mol=smimol.get_center_of_mass()\n",
    "# get the diff\n",
    "diff=cm_gold-cm_mol\n",
    "# shit the mol\n",
    "smimol.positions+=diff\n",
    "# shift on top\n",
    "smimol.positions[:,2]+=(max(gold_slab.positions[:,2])-smimol.get_center_of_mass()[2])+3.2\n",
    "\n",
    "# join the slab and the mol\n",
    "\n",
    "mol = Atoms()\n",
    "for atm in gold_slab:\n",
    "    mol.append(atm)\n",
    "for atm in smimol:\n",
    "    mol.append(atm)"
   ]
  },
  {
   "cell_type": "code",
   "execution_count": null,
   "metadata": {},
   "outputs": [],
   "source": [
    "write(\"mol-rdkit.pdb\",mol)"
   ]
  },
  {
   "cell_type": "markdown",
   "metadata": {},
   "source": [
    "## OPTIMIZE THE MOLECULE USING XTB ( or other semiempirical methods)"
   ]
  },
  {
   "cell_type": "code",
   "execution_count": null,
   "metadata": {},
   "outputs": [],
   "source": [
    "from ase.build import molecule\n",
    "from xtb.ase.calculator import XTB"
   ]
  },
  {
   "cell_type": "code",
   "execution_count": null,
   "metadata": {},
   "outputs": [],
   "source": [
    "mol.pbc=False\n",
    "#newstrxtb.calc=XTB(method=\"GFN2-xTB\")\n",
    "# GFNFF is very fast. See here for other methods:\n",
    "# https://xtb-python.readthedocs.io/en/latest/general-api.html#available-calculation-methods\n",
    "mol.calc=XTB(method=\"GFNFF\")"
   ]
  },
  {
   "cell_type": "markdown",
   "metadata": {},
   "source": [
    "Evaluate the following if you want to fix some atoms, e.g. the metal substrate."
   ]
  },
  {
   "cell_type": "code",
   "execution_count": null,
   "metadata": {},
   "outputs": [],
   "source": [
    "from ase.constraints import FixAtoms\n",
    "\n",
    "fix_z=max(mol[np.where(np.asarray(mol.get_chemical_symbols())==\"Au\")[0]].positions[:,2])\n",
    "idatoms_tobefixed = np.where(mol.positions[:,2]<fix_z)[0]\n",
    "atoms_tobefixed = FixAtoms(idatoms_tobefixed)\n",
    "mol.set_constraint(atoms_tobefixed)"
   ]
  },
  {
   "cell_type": "code",
   "execution_count": null,
   "metadata": {},
   "outputs": [],
   "source": [
    "from ase.optimize.lbfgs import LBFGS\n",
    "\n",
    "hareV=27.211399\n",
    "\n",
    "opt = LBFGS(mol)\n",
    "opt.run(fmax=0.00001)\n",
    "forces = mol.get_forces()\n",
    "energy = mol.get_potential_energy()\n",
    "positions = mol.get_positions()\n",
    "\n",
    "#\n",
    "print(\"Final energy is\", energy, \"eV\")\n",
    "print(\"Final energy is\", energy/hareV, \"hartree\")\n",
    "\n",
    "#print(\"All done, final positions are:\")\n",
    "#print(positions)"
   ]
  },
  {
   "cell_type": "code",
   "execution_count": null,
   "metadata": {},
   "outputs": [],
   "source": [
    "view(mol)"
   ]
  },
  {
   "cell_type": "code",
   "execution_count": null,
   "metadata": {},
   "outputs": [],
   "source": [
    "write(\"mol-optimized.pdb\",mol)"
   ]
  },
  {
   "cell_type": "markdown",
   "metadata": {},
   "source": [
    "## Compute energy and forces using DFT and Beyond-DFT"
   ]
  },
  {
   "cell_type": "code",
   "execution_count": null,
   "metadata": {},
   "outputs": [],
   "source": [
    "from ase.calculators.psi4 import Psi4\n",
    "from ase.build import molecule\n",
    "import numpy as np"
   ]
  },
  {
   "cell_type": "code",
   "execution_count": null,
   "metadata": {},
   "outputs": [],
   "source": [
    "atoms = molecule('H2O')\n",
    "\n",
    "#atoms = Atoms(mol.get_chemical_symbols(), positions=mol.positions)\n",
    "\n",
    "# See here for the methods:\n",
    "# http://www.psicode.org/psi4manual/master/autodoc_dft_energy.html#table-energy-dft\n",
    "\n",
    "# here the basisets:\n",
    "# http://www.psicode.org/psi4manual/master/basissets_byfamily.html\n",
    "\n",
    "\n",
    "# and check also this link for a nice overview of the Psi4 calculator in ASE:\n",
    "# https://gitlab.com/ase/ase/blob/master/doc/ase/calculators/psi4.rst\n",
    "calc = Psi4(atoms = atoms,\n",
    "        method = 'b3lyp', #'b3lyp'\n",
    "        memory = '16000MB', # the default is 500MB, be aware!\n",
    "        basis = '6-311g_d_p_',\n",
    "        num_threads=\"max\"\n",
    "           )\n",
    "\n",
    "atoms.calc = calc\n",
    "print(atoms.get_potential_energy())\n",
    "print(atoms.get_forces())\n"
   ]
  },
  {
   "cell_type": "code",
   "execution_count": null,
   "metadata": {},
   "outputs": [],
   "source": []
  }
 ],
 "metadata": {
  "kernelspec": {
   "display_name": "Python 3",
   "language": "python",
   "name": "python3"
  },
  "language_info": {
   "codemirror_mode": {
    "name": "ipython",
    "version": 3
   },
   "file_extension": ".py",
   "mimetype": "text/x-python",
   "name": "python",
   "nbconvert_exporter": "python",
   "pygments_lexer": "ipython3",
   "version": "3.7.9"
  }
 },
 "nbformat": 4,
 "nbformat_minor": 4
}
